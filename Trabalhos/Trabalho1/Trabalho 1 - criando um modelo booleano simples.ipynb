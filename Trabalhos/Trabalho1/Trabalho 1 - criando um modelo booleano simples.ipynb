{
 "cells": [
  {
   "cell_type": "markdown",
   "metadata": {},
   "source": [
    "# Introdução\n",
    "\n",
    "Neste exercício vamos dar os primeiros passos na construção de um sistema de recuperação de informação.\n",
    "Vamos tratar aqui: construção do vocabulário e implementação de um modelo booleano"
   ]
  },
  {
   "cell_type": "code",
   "execution_count": null,
   "metadata": {},
   "outputs": [],
   "source": [
    "import csv\n",
    "import collections\n",
    "import spacy\n",
    "import time\n",
    "\n",
    "\n",
    "FILE = 'data/articles1_sample.csv' # Para rodar o arquivo completo, trocar para articles1.csv\n",
    "\n",
    "# Retorna o conteúdo do i-ésimo documento\n",
    "def getDocInFile(pos):\n",
    "    with open(FILE) as fp:\n",
    "        for i, line in enumerate(fp):\n",
    "            if i-1 == pos:\n",
    "                return line\n",
    "\n",
    "            \n",
    "# Retorna uma coleção de (id, title)\n",
    "def getDocTitles(pos):\n",
    "    count = 0\n",
    "    result = []\n",
    "    if not isinstance(pos, set):\n",
    "        pos2 = set()\n",
    "        pos2.add(pos)\n",
    "        pos = pos2\n",
    "    \n",
    "    posMax = int(max(pos))\n",
    "    print(posMax, type(posMax))\n",
    "    \n",
    "\n",
    "    with open(FILE, newline='') as csvfile:\n",
    "        spamreader = csv.reader(csvfile, delimiter=',', quotechar='\"')\n",
    "        next(spamreader) # Pula a primeira linha do arquivo\n",
    "        #Ao ler o arquivo: #row[0]: id; row[2]:title; row[9]: content\n",
    "        for row in spamreader:\n",
    "            if str(count) in str(pos):\n",
    "                result.append((row[0], row[2]))\n",
    "                \n",
    "            if count >= posMax:\n",
    "                break\n",
    "            count=count+1\n",
    "    return result\n",
    "\n"
   ]
  },
  {
   "cell_type": "markdown",
   "metadata": {},
   "source": [
    "# Tarefa 0: Aquecimento\n",
    "\n",
    "Testar as funções de leitura do arquivo.\n",
    " - getDocInFile(pos): mostra o documento de id 'pos'. Teste essa função\n",
    " - getDocTitle(pos): essa função retorna uma lista de id e titulos de documentos. Seria o retorno da sua consulta. A função recebe uma posição ou um conjunto (set) de posições. Teste com os dois tipos de parâmetros"
   ]
  },
  {
   "cell_type": "code",
   "execution_count": null,
   "metadata": {},
   "outputs": [],
   "source": [
    "print('1) Retornando um documento:')\n",
    "#insira seu código aqui\n",
    "\n",
    "print('2) Retornando o titulo de um documento:')\n",
    "#insira seu código aqui\n",
    "\n",
    "print('3) Retornando os titulos de um conjunto de documentos:')\n",
    "#insira seu código aqui\n",
    "\n"
   ]
  },
  {
   "cell_type": "markdown",
   "metadata": {},
   "source": [
    "# Tarefa 1: Processando texto\n",
    "\n",
    "Complete a função abaixo para retornar uma lista com os termos-chave de um texto. \n",
    "\n",
    "Exemplo de uso: \n",
    "\n",
    "```python\n",
    "text = 'The Woodstock Music & Art Fair—informally, the Woodstock Festival or simply Woodstock—was a music festival in the United States in 1969'\n",
    "print(getKeysFromText(text))\n",
    "```\n",
    "\n",
    "Possível retorno:\n",
    "\n",
    "```python\n",
    "['woodstock', 'music', 'art', 'fair', 'informally', 'woodstock', 'festival', 'simply', 'woodstock', 'music', 'festival', 'united', 'states', '1969']\n",
    "```\n",
    "\n",
    "Dica: \n",
    "* Use o spacy para essa tarafa (ver em https://spacy.io/usage/ e http://leportella.com/pt-br/2017/11/30/brincando-de-nlp-com-spacy.html)\n",
    "* Tire símbolos indesejados, normalize as palavras, remova stopwords, etc."
   ]
  },
  {
   "cell_type": "code",
   "execution_count": null,
   "metadata": {},
   "outputs": [],
   "source": [
    "# Retorna uma lista de palavras pertencentes ao texto.\n",
    "def getKeysFromText(text):\n",
    "    nlp = spacy.load('en')\n",
    "    doc = nlp(text)\n",
    "    lista_de_termos = []\n",
    "    #Faça seu código aqui\n",
    "    return lista_de_termos #retorne a lista de termos (remova o [] do retorno)\n",
    "\n",
    "text = 'The Woodstock Music & Art Fair—informally, the Woodstock Festival or simply Woodstock—was a music festival in the United States in 1969'\n",
    "print(getKeysFromText(text))"
   ]
  },
  {
   "cell_type": "markdown",
   "metadata": {},
   "source": [
    "# Tarefa 2: Criando o índice invertido\n",
    "\n",
    "Vamos utilizar um hash (chamado de dict no python) onde cada chave estará associada a um conjunto (tipo set).\n",
    "\n",
    "Cada conjunto será formado pelos identificadores dos documentos (primeira coluna do arquivo).\n",
    "\n",
    "Complete o método abaixo e teste a indexação.\n",
    "\n",
    "Observação:\n",
    "- Estamos usando apenas um sample de 10 linhas do arquivo original. Se quiser testar, pode colocar o arquivo completo:\n",
    "``` FILE = 'data/articles1.csv' ```\n",
    "\n"
   ]
  },
  {
   "cell_type": "code",
   "execution_count": null,
   "metadata": {},
   "outputs": [],
   "source": [
    "index = collections.defaultdict(set) # Esse será nosso índice invertido\n",
    "def createInvertedIndex():\n",
    "    print('------- Criando arquivo invertido')\n",
    "    start_time = time.time()\n",
    "    count = 1\n",
    "\n",
    "    with open(FILE, newline='') as csvfile:\n",
    "        spamreader = csv.reader(csvfile, delimiter=',', quotechar='\"')\n",
    "        next(spamreader) # Pula a primeira linha do arquivo\n",
    "        #Ao ler o arquivo: #row[0]: id; row[2]:title; row[9]: content\n",
    "        for row in spamreader:\n",
    "            #coloque seu código aqui. \n",
    "            #Para cada termo no conteúdo do doc (apenas o conteúdo, não titulo e demais informações), \n",
    "            #  inserir o identificaodor do doc na posição do hash relativa ao termo que o doc possui.\n",
    "            \n",
    "            if count % 10 == 0:\n",
    "                print(' Processadas as primeiras', count, 'linhas.')\n",
    "            count=count+1\n",
    "    \n",
    "    print(' Índice criado.')\n",
    "    print(\" Tempo de criação %s segundos ---\" % (time.time() - start_time))\n",
    "    print(' Tamanho do vocabulário:', len(index), 'termos.')\n",
    "\n",
    "\n",
    "createInvertedIndex()\n",
    "\n",
    "# Você pode testar a indexação imprimindo o conteúdo do índice invertido\n",
    "print(index)"
   ]
  },
  {
   "cell_type": "markdown",
   "metadata": {},
   "source": [
    "# Tarefa 3: Implementando buscas\n",
    "\n",
    "Ao usar ``` index['washington']``` você tem acesso ao conjunto de identificadores dos docs que possuem esse termo\n",
    "Por exemplo, o método abaixo retorna o título de todos os docs que possuem o termo washington\n",
    "Dica: nesta tarefa vamos manipular objetos do tipo set."
   ]
  },
  {
   "cell_type": "code",
   "execution_count": null,
   "metadata": {},
   "outputs": [],
   "source": [
    "#buscar todos os documentos com um dado termo\n",
    "retorno = getDocTitles(index['washington'])\n",
    "print(retorno)"
   ]
  },
  {
   "cell_type": "markdown",
   "metadata": {},
   "source": [
    "## Tarefa 3.1: busca composta\n",
    "Mostre o titulo de todos os documentos que possuem os termos washington e south"
   ]
  },
  {
   "cell_type": "code",
   "execution_count": null,
   "metadata": {},
   "outputs": [],
   "source": [
    "retorno = #faça seu código aqui\n",
    "print(retorno)"
   ]
  },
  {
   "cell_type": "markdown",
   "metadata": {},
   "source": [
    "## Tarefa 3.2: busca composta\n",
    "Mostre o titulo de todos os documentos que possuem os termos washington ou south."
   ]
  },
  {
   "cell_type": "code",
   "execution_count": null,
   "metadata": {},
   "outputs": [],
   "source": [
    "retorno = #faça seu código aqui\n",
    "print(retorno)"
   ]
  },
  {
   "cell_type": "markdown",
   "metadata": {},
   "source": [
    "## Tarefa 3.3: busca composta\n",
    "Mostre o titulo de todos os documentos que possuem os termos washington mas não possuem o termo south."
   ]
  },
  {
   "cell_type": "code",
   "execution_count": null,
   "metadata": {},
   "outputs": [],
   "source": [
    "retorno = #faça seu código aqui\n",
    "print(retorno)"
   ]
  },
  {
   "cell_type": "markdown",
   "metadata": {},
   "source": [
    "# Tarefa 4: Verificando o tamanho do vocabulário\n",
    "Faça com que a função ```getKeysFromText``` agora guarde apenas termos stemmizados.\n",
    "\n",
    "Verifique a diferença no tamanho do seu vocabulário após essa alteração."
   ]
  },
  {
   "cell_type": "code",
   "execution_count": null,
   "metadata": {},
   "outputs": [],
   "source": [
    "#reconstrua o índice\n",
    "print(len(index))"
   ]
  },
  {
   "cell_type": "code",
   "execution_count": null,
   "metadata": {},
   "outputs": [],
   "source": []
  },
  {
   "cell_type": "code",
   "execution_count": null,
   "metadata": {},
   "outputs": [],
   "source": []
  }
 ],
 "metadata": {
  "kernelspec": {
   "display_name": "Python 3",
   "language": "python",
   "name": "python3"
  },
  "language_info": {
   "codemirror_mode": {
    "name": "ipython",
    "version": 3
   },
   "file_extension": ".py",
   "mimetype": "text/x-python",
   "name": "python",
   "nbconvert_exporter": "python",
   "pygments_lexer": "ipython3",
   "version": "3.6.5"
  }
 },
 "nbformat": 4,
 "nbformat_minor": 2
}
