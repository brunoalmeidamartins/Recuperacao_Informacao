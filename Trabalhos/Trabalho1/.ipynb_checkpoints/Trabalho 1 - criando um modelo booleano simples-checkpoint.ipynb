{
 "cells": [
  {
   "cell_type": "markdown",
   "metadata": {},
   "source": [
    "# Introdução\n",
    "\n",
    "Neste exercício vamos dar os primeiros passos na construção de um sistema de recuperação de informação.\n",
    "Vamos tratar aqui: construção do vocabulário e implementação de um modelo booleano"
   ]
  },
  {
   "cell_type": "code",
   "execution_count": 9,
   "metadata": {},
   "outputs": [],
   "source": [
    "import csv\n",
    "import collections\n",
    "import spacy\n",
    "import time\n",
    "import os\n",
    "\n",
    "path_home = os.getenv(\"HOME\") #Captura o caminho da pasta HOME do Usuario\n",
    "path_pasta_data = path_home + '/Recuperacao_Informacao_Dados/'\n",
    "\n",
    "\n",
    "FILE = path_pasta_data + 'data/articles1_sample.csv' # Para rodar o arquivo completo, trocar para articles1.csv\n",
    "\n",
    "# Retorna o conteúdo do i-ésimo documento\n",
    "def getDocInFile(pos):\n",
    "    with open(FILE) as fp:\n",
    "        for i, line in enumerate(fp):\n",
    "            if i-1 == pos:\n",
    "                return line\n",
    "\n",
    "            \n",
    "# Retorna uma coleção de (id, title)\n",
    "def getDocTitles(pos):\n",
    "    count = 0\n",
    "    result = []\n",
    "    if not isinstance(pos, set):\n",
    "        pos2 = set()\n",
    "        pos2.add(pos)\n",
    "        pos = pos2\n",
    "    \n",
    "    posMax = int(max(pos))\n",
    "    #print(posMax, type(posMax))\n",
    "    \n",
    "\n",
    "    with open(FILE, newline='') as csvfile:\n",
    "        spamreader = csv.reader(csvfile, delimiter=',', quotechar='\"')\n",
    "        next(spamreader) # Pula a primeira linha do arquivo\n",
    "        #Ao ler o arquivo: #row[0]: id; row[2]:title; row[9]: content\n",
    "        for row in spamreader:\n",
    "            if str(count) in str(pos):\n",
    "                result.append((row[0], row[2]))\n",
    "                \n",
    "            if count >= posMax:\n",
    "                break\n",
    "            count=count+1\n",
    "    return result\n",
    "\n"
   ]
  },
  {
   "cell_type": "markdown",
   "metadata": {},
   "source": [
    "# Tarefa 0: Aquecimento\n",
    "\n",
    "Testar as funções de leitura do arquivo.\n",
    " - getDocInFile(pos): mostra o documento de id 'pos'. Teste essa função\n",
    " - getDocTitle(pos): essa função retorna uma lista de id e titulos de documentos. Seria o retorno da sua consulta. A função recebe uma posição ou um conjunto (set) de posições. Teste com os dois tipos de parâmetros"
   ]
  },
  {
   "cell_type": "code",
   "execution_count": 22,
   "metadata": {},
   "outputs": [
    {
     "name": "stdout",
     "output_type": "stream",
     "text": [
      "\n",
      "1) Retornando um documento:\n",
      "0,17283,House Republicans Fret About Winning Their Health Care Suit - The New York Times,New York Times,Carl Hulse,2016-12-31,2016.0,12.0,,\"WASHINGTON  —   Congressional Republicans have a new fear when it comes to their    health care lawsuit against the Obama administration: They might win. The incoming Trump administration could choose to no longer defend the executive branch against the suit, which challenges the administration’s authority to spend billions of dollars on health insurance subsidies for   and   Americans, handing House Republicans a big victory on    issues. But a sudden loss of the disputed subsidies could conceivably cause the health care program to implode, leaving millions of people without access to health insurance before Republicans have prepared a replacement. That could lead to chaos in the insurance market and spur a political backlash just as Republicans gain full control of the government. To stave off that outcome, Republicans could find themselves in the awkward position of appropriating huge sums to temporarily prop up the Obama health care law, angering conservative voters who have been demanding an end to the law for years. In another twist, Donald J. Trump’s administration, worried about preserving executive branch prerogatives, could choose to fight its Republican allies in the House on some central questions in the dispute. Eager to avoid an ugly political pileup, Republicans on Capitol Hill and the Trump transition team are gaming out how to handle the lawsuit, which, after the election, has been put in limbo until at least late February by the United States Court of Appeals for the District of Columbia Circuit. They are not yet ready to divulge their strategy. “Given that this pending litigation involves the Obama administration and Congress, it would be inappropriate to comment,” said Phillip J. Blando, a spokesman for the Trump transition effort. “Upon taking office, the Trump administration will evaluate this case and all related aspects of the Affordable Care Act. ” In a potentially   decision in 2015, Judge Rosemary M. Collyer ruled that House Republicans had the standing to sue the executive branch over a spending dispute and that the Obama administration had been distributing the health insurance subsidies, in violation of the Constitution, without approval from Congress. The Justice Department, confident that Judge Collyer’s decision would be reversed, quickly appealed, and the subsidies have remained in place during the appeal. In successfully seeking a temporary halt in the proceedings after Mr. Trump won, House Republicans last month told the court that they “and the  ’s transition team currently are discussing potential options for resolution of this matter, to take effect after the  ’s inauguration on Jan. 20, 2017. ” The suspension of the case, House lawyers said, will “provide the   and his future administration time to consider whether to continue prosecuting or to otherwise resolve this appeal. ” Republican leadership officials in the House acknowledge the possibility of “cascading effects” if the   payments, which have totaled an estimated $13 billion, are suddenly stopped. Insurers that receive the subsidies in exchange for paying    costs such as deductibles and   for eligible consumers could race to drop coverage since they would be losing money. Over all, the loss of the subsidies could destabilize the entire program and cause a lack of confidence that leads other insurers to seek a quick exit as well. Anticipating that the Trump administration might not be inclined to mount a vigorous fight against the House Republicans given the  ’s dim view of the health care law, a team of lawyers this month sought to intervene in the case on behalf of two participants in the health care program. In their request, the lawyers predicted that a deal between House Republicans and the new administration to dismiss or settle the case “will produce devastating consequences for the individuals who receive these reductions, as well as for the nation’s health insurance and health care systems generally. ” No matter what happens, House Republicans say, they want to prevail on two overarching concepts: the congressional power of the purse, and the right of Congress to sue the executive branch if it violates the Constitution regarding that spending power. House Republicans contend that Congress never appropriated the money for the subsidies, as required by the Constitution. In the suit, which was initially championed by John A. Boehner, the House speaker at the time, and later in House committee reports, Republicans asserted that the administration, desperate for the funding, had required the Treasury Department to provide it despite widespread internal skepticism that the spending was proper. The White House said that the spending was a permanent part of the law passed in 2010, and that no annual appropriation was required  —   even though the administration initially sought one. Just as important to House Republicans, Judge Collyer found that Congress had the standing to sue the White House on this issue  —   a ruling that many legal experts said was flawed  —   and they want that precedent to be set to restore congressional leverage over the executive branch. But on spending power and standing, the Trump administration may come under pressure from advocates of presidential authority to fight the House no matter their shared views on health care, since those precedents could have broad repercussions. It is a complicated set of dynamics illustrating how a quick legal victory for the House in the Trump era might come with costs that Republicans never anticipated when they took on the Obama White House.\"\n",
      "\n",
      "\n",
      "2) Retornando o titulo de um documento:\n",
      "Posicao: 0 Titulo:  House Republicans Fret About Winning Their Health Care Suit - The New York Times\n",
      "\n",
      "3) Retornando os titulos de um conjunto de documentos:\n",
      "Posicao: 1 Titulo:  Rift Between Officers and Residents as Killings Persist in South Bronx - The New York Times\n",
      "Posicao: 2 Titulo:  Tyrus Wong, ‘Bambi’ Artist Thwarted by Racial Bias, Dies at 106 - The New York Times\n",
      "Posicao: 3 Titulo:  Among Deaths in 2016, a Heavy Toll in Pop Music - The New York Times\n",
      "Posicao: 4 Titulo:  Kim Jong-un Says North Korea Is Preparing to Test Long-Range Missile - The New York Times\n",
      "Posicao: 5 Titulo:  Sick With a Cold, Queen Elizabeth Misses New Year’s Service - The New York Times\n"
     ]
    }
   ],
   "source": [
    "print('\\n1) Retornando um documento:')\n",
    "print(getDocInFile(0))\n",
    "\n",
    "print('\\n2) Retornando o titulo de um documento:')\n",
    "result_getDocTitle = getDocTitles(0)\n",
    "for result in result_getDocTitle:\n",
    "    print(\"Posicao:\",result[0],\"Titulo: \", result[1])\n",
    "    \n",
    "print('\\n3) Retornando os titulos de um conjunto de documentos:')\n",
    "result_getDocTitle = getDocTitles(set([1,2,3,4,5]))\n",
    "for result in result_getDocTitle:\n",
    "    print(\"Posicao:\",result[0],\"Titulo: \", result[1])\n",
    "\n",
    "\n"
   ]
  },
  {
   "cell_type": "markdown",
   "metadata": {},
   "source": [
    "# Tarefa 1: Processando texto\n",
    "\n",
    "Complete a função abaixo para retornar uma lista com os termos-chave de um texto. \n",
    "\n",
    "Exemplo de uso: \n",
    "\n",
    "```python\n",
    "text = 'The Woodstock Music & Art Fair—informally, the Woodstock Festival or simply Woodstock—was a music festival in the United States in 1969'\n",
    "print(getKeysFromText(text))\n",
    "```\n",
    "\n",
    "Possível retorno:\n",
    "\n",
    "```python\n",
    "['woodstock', 'music', 'art', 'fair', 'informally', 'woodstock', 'festival', 'simply', 'woodstock', 'music', 'festival', 'united', 'states', '1969']\n",
    "```\n",
    "\n",
    "Dica: \n",
    "* Use o spacy para essa tarefa (ver em https://spacy.io/usage/ e http://leportella.com/pt-br/2017/11/30/brincando-de-nlp-com-spacy.html)\n",
    "* Tire símbolos indesejados, normalize as palavras, remova stopwords, etc."
   ]
  },
  {
   "cell_type": "code",
   "execution_count": null,
   "metadata": {},
   "outputs": [],
   "source": [
    "# Retorna uma lista de palavras pertencentes ao texto.\n",
    "def getKeysFromText(text):\n",
    "    nlp = spacy.load('en')\n",
    "    doc = nlp(text)\n",
    "    lista_de_termos = []\n",
    "    #Faça seu código aqui\n",
    "    return lista_de_termos #retorne a lista de termos (remova o [] do retorno)\n",
    "\n",
    "text = 'The Woodstock Music & Art Fair—informally, the Woodstock Festival or simply Woodstock—was a music festival in the United States in 1969'\n",
    "print(getKeysFromText(text))"
   ]
  },
  {
   "cell_type": "markdown",
   "metadata": {},
   "source": [
    "# Tarefa 2: Criando o índice invertido\n",
    "\n",
    "Vamos utilizar um hash (chamado de dict no python) onde cada chave estará associada a um conjunto (tipo set).\n",
    "\n",
    "Cada conjunto será formado pelos identificadores dos documentos (primeira coluna do arquivo).\n",
    "\n",
    "Complete o método abaixo e teste a indexação.\n",
    "\n",
    "Observação:\n",
    "- Estamos usando apenas um sample de 10 linhas do arquivo original. Se quiser testar, pode colocar o arquivo completo:\n",
    "``` FILE = 'data/articles1.csv' ```\n",
    "\n"
   ]
  },
  {
   "cell_type": "code",
   "execution_count": null,
   "metadata": {},
   "outputs": [],
   "source": [
    "index = collections.defaultdict(set) # Esse será nosso índice invertido\n",
    "def createInvertedIndex():\n",
    "    print('------- Criando arquivo invertido')\n",
    "    start_time = time.time()\n",
    "    count = 1\n",
    "\n",
    "    with open(FILE, newline='') as csvfile:\n",
    "        spamreader = csv.reader(csvfile, delimiter=',', quotechar='\"')\n",
    "        next(spamreader) # Pula a primeira linha do arquivo\n",
    "        #Ao ler o arquivo: #row[0]: id; row[2]:title; row[9]: content\n",
    "        for row in spamreader:\n",
    "            #coloque seu código aqui. \n",
    "            #Para cada termo no conteúdo do doc (apenas o conteúdo, não titulo e demais informações), \n",
    "            #  inserir o identificaodor do doc na posição do hash relativa ao termo que o doc possui.\n",
    "            \n",
    "            if count % 10 == 0:\n",
    "                print(' Processadas as primeiras', count, 'linhas.')\n",
    "            count=count+1\n",
    "    \n",
    "    print(' Índice criado.')\n",
    "    print(\" Tempo de criação %s segundos ---\" % (time.time() - start_time))\n",
    "    print(' Tamanho do vocabulário:', len(index), 'termos.')\n",
    "\n",
    "\n",
    "createInvertedIndex()\n",
    "\n",
    "# Você pode testar a indexação imprimindo o conteúdo do índice invertido\n",
    "print(index)"
   ]
  },
  {
   "cell_type": "markdown",
   "metadata": {},
   "source": [
    "# Tarefa 3: Implementando buscas\n",
    "\n",
    "Ao usar ``` index['washington']``` você tem acesso ao conjunto de identificadores dos docs que possuem esse termo\n",
    "Por exemplo, o método abaixo retorna o título de todos os docs que possuem o termo washington\n",
    "Dica: nesta tarefa vamos manipular objetos do tipo set."
   ]
  },
  {
   "cell_type": "code",
   "execution_count": null,
   "metadata": {},
   "outputs": [],
   "source": [
    "#buscar todos os documentos com um dado termo\n",
    "retorno = getDocTitles(index['washington'])\n",
    "print(retorno)"
   ]
  },
  {
   "cell_type": "markdown",
   "metadata": {},
   "source": [
    "## Tarefa 3.1: busca composta\n",
    "Mostre o titulo de todos os documentos que possuem os termos washington e south"
   ]
  },
  {
   "cell_type": "code",
   "execution_count": null,
   "metadata": {},
   "outputs": [],
   "source": [
    "retorno = #faça seu código aqui\n",
    "print(retorno)"
   ]
  },
  {
   "cell_type": "markdown",
   "metadata": {},
   "source": [
    "## Tarefa 3.2: busca composta\n",
    "Mostre o titulo de todos os documentos que possuem os termos washington ou south."
   ]
  },
  {
   "cell_type": "code",
   "execution_count": null,
   "metadata": {},
   "outputs": [],
   "source": [
    "retorno = #faça seu código aqui\n",
    "print(retorno)"
   ]
  },
  {
   "cell_type": "markdown",
   "metadata": {},
   "source": [
    "## Tarefa 3.3: busca composta\n",
    "Mostre o titulo de todos os documentos que possuem os termos washington mas não possuem o termo south."
   ]
  },
  {
   "cell_type": "code",
   "execution_count": null,
   "metadata": {},
   "outputs": [],
   "source": [
    "retorno = #faça seu código aqui\n",
    "print(retorno)"
   ]
  },
  {
   "cell_type": "markdown",
   "metadata": {},
   "source": [
    "# Tarefa 4: Verificando o tamanho do vocabulário\n",
    "Faça com que a função ```getKeysFromText``` agora guarde apenas termos stemmizados.\n",
    "\n",
    "Verifique a diferença no tamanho do seu vocabulário após essa alteração."
   ]
  },
  {
   "cell_type": "code",
   "execution_count": null,
   "metadata": {},
   "outputs": [],
   "source": [
    "#reconstrua o índice\n",
    "print(len(index))"
   ]
  },
  {
   "cell_type": "code",
   "execution_count": null,
   "metadata": {},
   "outputs": [],
   "source": []
  },
  {
   "cell_type": "code",
   "execution_count": null,
   "metadata": {},
   "outputs": [],
   "source": []
  }
 ],
 "metadata": {
  "kernelspec": {
   "display_name": "Python 3",
   "language": "python",
   "name": "python3"
  },
  "language_info": {
   "codemirror_mode": {
    "name": "ipython",
    "version": 3
   },
   "file_extension": ".py",
   "mimetype": "text/x-python",
   "name": "python",
   "nbconvert_exporter": "python",
   "pygments_lexer": "ipython3",
   "version": "3.7.1"
  }
 },
 "nbformat": 4,
 "nbformat_minor": 2
}
